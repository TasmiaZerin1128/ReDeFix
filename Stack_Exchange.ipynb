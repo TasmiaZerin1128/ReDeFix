{
 "cells": [
  {
   "cell_type": "code",
   "execution_count": 34,
   "id": "52541095",
   "metadata": {},
   "outputs": [
    {
     "name": "stdout",
     "output_type": "stream",
     "text": [
      "Requirement already satisfied: requests in d:\\software\\softwares\\anaconda\\lib\\site-packages (2.29.0)\n",
      "Requirement already satisfied: python-dotenv in d:\\software\\softwares\\anaconda\\lib\\site-packages (1.1.0)\n",
      "Requirement already satisfied: charset-normalizer<4,>=2 in d:\\software\\softwares\\anaconda\\lib\\site-packages (from requests) (2.0.4)\n",
      "Requirement already satisfied: idna<4,>=2.5 in d:\\software\\softwares\\anaconda\\lib\\site-packages (from requests) (3.4)\n",
      "Requirement already satisfied: urllib3<1.27,>=1.21.1 in d:\\software\\softwares\\anaconda\\lib\\site-packages (from requests) (1.26.16)\n",
      "Requirement already satisfied: certifi>=2017.4.17 in d:\\software\\softwares\\anaconda\\lib\\site-packages (from requests) (2023.5.7)\n",
      "Note: you may need to restart the kernel to use updated packages.\n"
     ]
    }
   ],
   "source": [
    "pip install requests python-dotenv"
   ]
  },
  {
   "cell_type": "code",
   "execution_count": 61,
   "id": "259ce8fd",
   "metadata": {},
   "outputs": [],
   "source": [
    "STACK_EXCHANGE_API_KEY = 'rl_2AK3hrozTLChbcAFfTMnbu2km'"
   ]
  },
  {
   "cell_type": "code",
   "execution_count": 39,
   "id": "e4f4593a",
   "metadata": {},
   "outputs": [],
   "source": [
    "# import os\n",
    "# import requests\n",
    "# from datetime import datetime, timedelta\n",
    "# import time\n",
    "# from bs4 import BeautifulSoup as bs\n",
    "\n",
    "# def fetch_stackoverflow_threads(tags, question, view_count=1, days=365*5):\n",
    "#     API_KEY = STACK_EXCHANGE_API_KEY\n",
    "#     base_url = \"https://api.stackexchange.com/2.3/search/advanced\"\n",
    "    \n",
    "#     from_date = datetime.now() - timedelta(days=days)\n",
    "#     timestamp = time.mktime(from_date.timetuple())\n",
    "    \n",
    "#     params = {\n",
    "#         \"q\": question,\n",
    "#         \"order\": \"desc\",\n",
    "#         \"sort\": \"votes\",\n",
    "#         \"tagged\": \";\".join(tags),\n",
    "#         \"site\": \"stackoverflow\",\n",
    "# #         \"fromdate\": int(timestamp),\n",
    "#         \"key\": API_KEY,\n",
    "#         \"filter\": \"!0WRXThY5-I_TB(WxIdhBDpR5e\"\n",
    "#     }\n",
    "    \n",
    "    \n",
    "#     try:\n",
    "#         response = requests.get(base_url, params=params)\n",
    "#         print(response.url)\n",
    "#         response.raise_for_status()\n",
    "#         data = response.json()\n",
    "        \n",
    "#         threads = []\n",
    "#         for item in data.get(\"items\", []):\n",
    "#             if item[\"view_count\"] >= view_count:\n",
    "#                 # Extract question and top answer\n",
    "#                 thread = {\n",
    "#                     \"title\": item[\"title\"],\n",
    "#                     \"question_body\": item[\"body\"],\n",
    "#                     \"link\": item[\"link\"],\n",
    "#                     \"score\": item[\"score\"],\n",
    "#                     \"tags\": item[\"tags\"],\n",
    "#                     \"question_id\": item[\"question_id\"],\n",
    "#                     \"answer_count\": item[\"answer_count\"],\n",
    "#                     \"view_count\": item[\"view_count\"],\n",
    "#                     \"answers\": []\n",
    "#                 }\n",
    "\n",
    "#                 if item[\"is_answered\"]:\n",
    "#                     answer_url = f'https://api.stackexchange.com/2.3/questions/{item[\"question_id\"]}/answers'\n",
    "#                     params = {\n",
    "#                         'order': 'asc',\n",
    "#                         'sort': 'votes',    \n",
    "#                         'site': 'stackoverflow',       \n",
    "#                         'filter': '!*Mg4Pjg8kf1X_aIL',  \n",
    "#                     }\n",
    "#                     response = requests.get(answer_url, params=params)\n",
    "#                     answers = response.json()\n",
    "                    \n",
    "#                     cleaned_answers = ''\n",
    "#                     for answer in answers['items']:\n",
    "#                         if answer['score'] > 0:\n",
    "#                             soup = bs(answer['body'], 'html.parser')\n",
    "#                             clean_text = soup.get_text()\n",
    "#                             thread[\"answers\"].append({\n",
    "#                                 \"score\": answer[\"score\"],\n",
    "#                                 \"body\": clean_text.strip()\n",
    "#                             })\n",
    "                \n",
    "#                 threads.append(thread)\n",
    "        \n",
    "#         return threads\n",
    "    \n",
    "#     except requests.exceptions.RequestException as e:\n",
    "#         print(f\"API request failed: {e}\")\n",
    "#         return []"
   ]
  },
  {
   "cell_type": "code",
   "execution_count": 79,
   "id": "13a08eb6",
   "metadata": {},
   "outputs": [],
   "source": [
    "import os\n",
    "import requests\n",
    "from datetime import datetime, timedelta\n",
    "import time\n",
    "from bs4 import BeautifulSoup as bs\n",
    "\n",
    "def fetch_stackoverflow_threads(tags, question, min_answer_count=1):\n",
    "    page = 1\n",
    "    has_more = True\n",
    "    API_KEY = STACK_EXCHANGE_API_KEY\n",
    "    base_url = \"https://api.stackexchange.com/2.3/search/advanced\"\n",
    "    \n",
    "    threads = []\n",
    "    \n",
    "    while has_more:\n",
    "        params = {\n",
    "            \"page\": page,\n",
    "            \"pagesize\": 100,\n",
    "            \"order\": \"desc\",\n",
    "            \"sort\": \"votes\",\n",
    "            \"q\": question,\n",
    "            \"tagged\": \";\".join(tags),\n",
    "            \"site\": \"stackoverflow\",\n",
    "            \"key\": API_KEY,\n",
    "            \"filter\": \"!0WRXThY5-I_TB(WxIdhBDpR5e\"\n",
    "        }\n",
    "        \n",
    "        try:\n",
    "            response = requests.get(base_url, params=params)\n",
    "            print(response.url)\n",
    "            response.raise_for_status()\n",
    "            data = response.json()\n",
    "        \n",
    "            for item in data.get(\"items\", []):\n",
    "                if item[\"answer_count\"] >= min_answer_count:\n",
    "                    thread = {\n",
    "                        \"title\": item[\"title\"],\n",
    "                        \"question_body\": item[\"body\"],\n",
    "                        \"link\": item[\"link\"],\n",
    "                        \"score\": item[\"score\"],\n",
    "                        \"tags\": item[\"tags\"],\n",
    "                        \"question_id\": item[\"question_id\"],\n",
    "                        \"answer_count\": item[\"answer_count\"],\n",
    "                        \"view_count\": item[\"view_count\"],\n",
    "                        \"comment_count\": item[\"comment_count\"],\n",
    "                        \"comments\": [],\n",
    "                        \"answers\": []\n",
    "                    }\n",
    "\n",
    "                    if item[\"comment_count\"] > 0:\n",
    "                        for comment in item[\"comments\"]:\n",
    "                            thread[\"comments\"].append({\"body\":comment[\"body\"]})\n",
    "\n",
    "                    if item[\"is_answered\"]:\n",
    "                        answer_url = f'https://api.stackexchange.com/2.3/questions/{item[\"question_id\"]}/answers'\n",
    "                        params = {\n",
    "                            \"key\": API_KEY,\n",
    "                            'order': 'asc',\n",
    "                            'sort': 'votes',    \n",
    "                            'site': 'stackoverflow',   \n",
    "                            'filter': '!)rlHR4RcMJ3iyACK5j)T',  \n",
    "                        }\n",
    "                        response = requests.get(answer_url, params=params)\n",
    "                        print(response.url)\n",
    "                        response.raise_for_status()\n",
    "                        answers = response.json()\n",
    "\n",
    "                        cleaned_answers = ''\n",
    "                        for answer in answers['items']:\n",
    "                            if answer['score'] > 0:\n",
    "                                thread[\"answers\"].append({\n",
    "                                    \"score\": answer[\"score\"],\n",
    "                                    \"body\": answer[\"body\"]\n",
    "                                })\n",
    "\n",
    "                threads.append(thread)\n",
    "\n",
    "#             has_more = data.get('has_more', False)\n",
    "            has_more = False\n",
    "            page += 1\n",
    "\n",
    "            # Respect rate limits\n",
    "            if 'backoff' in response:\n",
    "                time.sleep(response['backoff'] + 1)\n",
    "    \n",
    "        except requests.exceptions.RequestException as e:\n",
    "            print(f\"API request failed: {e}\")\n",
    "            return []\n",
    "        \n",
    "    return threads"
   ]
  },
  {
   "cell_type": "code",
   "execution_count": 80,
   "id": "0188baec",
   "metadata": {},
   "outputs": [
    {
     "name": "stdout",
     "output_type": "stream",
     "text": [
      "https://api.stackexchange.com/2.3/search/advanced?page=1&pagesize=100&order=desc&sort=votes&q=overlapping+fix&tagged=css%3Bhtml&site=stackoverflow&key=rl_2AK3hrozTLChbcAFfTMnbu2km&filter=%210WRXThY5-I_TB%28WxIdhBDpR5e\n",
      "https://api.stackexchange.com/2.3/questions/710158/answers?key=rl_2AK3hrozTLChbcAFfTMnbu2km&order=asc&sort=votes&site=stackoverflow&filter=%21%29rlHR4RcMJ3iyACK5j%29T\n",
      "https://api.stackexchange.com/2.3/questions/8965063/answers?key=rl_2AK3hrozTLChbcAFfTMnbu2km&order=asc&sort=votes&site=stackoverflow&filter=%21%29rlHR4RcMJ3iyACK5j%29T\n",
      "https://api.stackexchange.com/2.3/questions/3906640/answers?key=rl_2AK3hrozTLChbcAFfTMnbu2km&order=asc&sort=votes&site=stackoverflow&filter=%21%29rlHR4RcMJ3iyACK5j%29T\n",
      "https://api.stackexchange.com/2.3/questions/21638859/answers?key=rl_2AK3hrozTLChbcAFfTMnbu2km&order=asc&sort=votes&site=stackoverflow&filter=%21%29rlHR4RcMJ3iyACK5j%29T\n",
      "https://api.stackexchange.com/2.3/questions/13798446/answers?key=rl_2AK3hrozTLChbcAFfTMnbu2km&order=asc&sort=votes&site=stackoverflow&filter=%21%29rlHR4RcMJ3iyACK5j%29T\n",
      "https://api.stackexchange.com/2.3/questions/18990675/answers?key=rl_2AK3hrozTLChbcAFfTMnbu2km&order=asc&sort=votes&site=stackoverflow&filter=%21%29rlHR4RcMJ3iyACK5j%29T\n",
      "https://api.stackexchange.com/2.3/questions/26336190/answers?key=rl_2AK3hrozTLChbcAFfTMnbu2km&order=asc&sort=votes&site=stackoverflow&filter=%21%29rlHR4RcMJ3iyACK5j%29T\n",
      "https://api.stackexchange.com/2.3/questions/48731110/answers?key=rl_2AK3hrozTLChbcAFfTMnbu2km&order=asc&sort=votes&site=stackoverflow&filter=%21%29rlHR4RcMJ3iyACK5j%29T\n",
      "https://api.stackexchange.com/2.3/questions/37696746/answers?key=rl_2AK3hrozTLChbcAFfTMnbu2km&order=asc&sort=votes&site=stackoverflow&filter=%21%29rlHR4RcMJ3iyACK5j%29T\n",
      "https://api.stackexchange.com/2.3/questions/3375087/answers?key=rl_2AK3hrozTLChbcAFfTMnbu2km&order=asc&sort=votes&site=stackoverflow&filter=%21%29rlHR4RcMJ3iyACK5j%29T\n",
      "https://api.stackexchange.com/2.3/questions/17534684/answers?key=rl_2AK3hrozTLChbcAFfTMnbu2km&order=asc&sort=votes&site=stackoverflow&filter=%21%29rlHR4RcMJ3iyACK5j%29T\n",
      "https://api.stackexchange.com/2.3/questions/1900813/answers?key=rl_2AK3hrozTLChbcAFfTMnbu2km&order=asc&sort=votes&site=stackoverflow&filter=%21%29rlHR4RcMJ3iyACK5j%29T\n",
      "https://api.stackexchange.com/2.3/questions/11059628/answers?key=rl_2AK3hrozTLChbcAFfTMnbu2km&order=asc&sort=votes&site=stackoverflow&filter=%21%29rlHR4RcMJ3iyACK5j%29T\n",
      "https://api.stackexchange.com/2.3/questions/5894642/answers?key=rl_2AK3hrozTLChbcAFfTMnbu2km&order=asc&sort=votes&site=stackoverflow&filter=%21%29rlHR4RcMJ3iyACK5j%29T\n",
      "https://api.stackexchange.com/2.3/questions/26826689/answers?key=rl_2AK3hrozTLChbcAFfTMnbu2km&order=asc&sort=votes&site=stackoverflow&filter=%21%29rlHR4RcMJ3iyACK5j%29T\n",
      "https://api.stackexchange.com/2.3/questions/1702580/answers?key=rl_2AK3hrozTLChbcAFfTMnbu2km&order=asc&sort=votes&site=stackoverflow&filter=%21%29rlHR4RcMJ3iyACK5j%29T\n",
      "https://api.stackexchange.com/2.3/questions/28627049/answers?key=rl_2AK3hrozTLChbcAFfTMnbu2km&order=asc&sort=votes&site=stackoverflow&filter=%21%29rlHR4RcMJ3iyACK5j%29T\n",
      "https://api.stackexchange.com/2.3/questions/41978866/answers?key=rl_2AK3hrozTLChbcAFfTMnbu2km&order=asc&sort=votes&site=stackoverflow&filter=%21%29rlHR4RcMJ3iyACK5j%29T\n",
      "https://api.stackexchange.com/2.3/questions/4212441/answers?key=rl_2AK3hrozTLChbcAFfTMnbu2km&order=asc&sort=votes&site=stackoverflow&filter=%21%29rlHR4RcMJ3iyACK5j%29T\n",
      "https://api.stackexchange.com/2.3/questions/23107646/answers?key=rl_2AK3hrozTLChbcAFfTMnbu2km&order=asc&sort=votes&site=stackoverflow&filter=%21%29rlHR4RcMJ3iyACK5j%29T\n",
      "https://api.stackexchange.com/2.3/questions/48545178/answers?key=rl_2AK3hrozTLChbcAFfTMnbu2km&order=asc&sort=votes&site=stackoverflow&filter=%21%29rlHR4RcMJ3iyACK5j%29T\n",
      "https://api.stackexchange.com/2.3/questions/7680881/answers?key=rl_2AK3hrozTLChbcAFfTMnbu2km&order=asc&sort=votes&site=stackoverflow&filter=%21%29rlHR4RcMJ3iyACK5j%29T\n",
      "https://api.stackexchange.com/2.3/questions/123529/answers?key=rl_2AK3hrozTLChbcAFfTMnbu2km&order=asc&sort=votes&site=stackoverflow&filter=%21%29rlHR4RcMJ3iyACK5j%29T\n",
      "https://api.stackexchange.com/2.3/questions/33669609/answers?key=rl_2AK3hrozTLChbcAFfTMnbu2km&order=asc&sort=votes&site=stackoverflow&filter=%21%29rlHR4RcMJ3iyACK5j%29T\n",
      "https://api.stackexchange.com/2.3/questions/48473821/answers?key=rl_2AK3hrozTLChbcAFfTMnbu2km&order=asc&sort=votes&site=stackoverflow&filter=%21%29rlHR4RcMJ3iyACK5j%29T\n",
      "https://api.stackexchange.com/2.3/questions/52508559/answers?key=rl_2AK3hrozTLChbcAFfTMnbu2km&order=asc&sort=votes&site=stackoverflow&filter=%21%29rlHR4RcMJ3iyACK5j%29T\n",
      "https://api.stackexchange.com/2.3/questions/56750387/answers?key=rl_2AK3hrozTLChbcAFfTMnbu2km&order=asc&sort=votes&site=stackoverflow&filter=%21%29rlHR4RcMJ3iyACK5j%29T\n",
      "https://api.stackexchange.com/2.3/questions/6740513/answers?key=rl_2AK3hrozTLChbcAFfTMnbu2km&order=asc&sort=votes&site=stackoverflow&filter=%21%29rlHR4RcMJ3iyACK5j%29T\n",
      "https://api.stackexchange.com/2.3/questions/8609556/answers?key=rl_2AK3hrozTLChbcAFfTMnbu2km&order=asc&sort=votes&site=stackoverflow&filter=%21%29rlHR4RcMJ3iyACK5j%29T\n",
      "https://api.stackexchange.com/2.3/questions/12273774/answers?key=rl_2AK3hrozTLChbcAFfTMnbu2km&order=asc&sort=votes&site=stackoverflow&filter=%21%29rlHR4RcMJ3iyACK5j%29T\n",
      "https://api.stackexchange.com/2.3/questions/38976978/answers?key=rl_2AK3hrozTLChbcAFfTMnbu2km&order=asc&sort=votes&site=stackoverflow&filter=%21%29rlHR4RcMJ3iyACK5j%29T\n",
      "https://api.stackexchange.com/2.3/questions/49137943/answers?key=rl_2AK3hrozTLChbcAFfTMnbu2km&order=asc&sort=votes&site=stackoverflow&filter=%21%29rlHR4RcMJ3iyACK5j%29T\n",
      "https://api.stackexchange.com/2.3/questions/4445881/answers?key=rl_2AK3hrozTLChbcAFfTMnbu2km&order=asc&sort=votes&site=stackoverflow&filter=%21%29rlHR4RcMJ3iyACK5j%29T\n",
      "https://api.stackexchange.com/2.3/questions/31440810/answers?key=rl_2AK3hrozTLChbcAFfTMnbu2km&order=asc&sort=votes&site=stackoverflow&filter=%21%29rlHR4RcMJ3iyACK5j%29T\n",
      "https://api.stackexchange.com/2.3/questions/34983672/answers?key=rl_2AK3hrozTLChbcAFfTMnbu2km&order=asc&sort=votes&site=stackoverflow&filter=%21%29rlHR4RcMJ3iyACK5j%29T\n",
      "https://api.stackexchange.com/2.3/questions/36200587/answers?key=rl_2AK3hrozTLChbcAFfTMnbu2km&order=asc&sort=votes&site=stackoverflow&filter=%21%29rlHR4RcMJ3iyACK5j%29T\n",
      "https://api.stackexchange.com/2.3/questions/76632711/answers?key=rl_2AK3hrozTLChbcAFfTMnbu2km&order=asc&sort=votes&site=stackoverflow&filter=%21%29rlHR4RcMJ3iyACK5j%29T\n",
      "https://api.stackexchange.com/2.3/questions/1969572/answers?key=rl_2AK3hrozTLChbcAFfTMnbu2km&order=asc&sort=votes&site=stackoverflow&filter=%21%29rlHR4RcMJ3iyACK5j%29T\n",
      "https://api.stackexchange.com/2.3/questions/2685716/answers?key=rl_2AK3hrozTLChbcAFfTMnbu2km&order=asc&sort=votes&site=stackoverflow&filter=%21%29rlHR4RcMJ3iyACK5j%29T\n",
      "https://api.stackexchange.com/2.3/questions/13953309/answers?key=rl_2AK3hrozTLChbcAFfTMnbu2km&order=asc&sort=votes&site=stackoverflow&filter=%21%29rlHR4RcMJ3iyACK5j%29T\n",
      "https://api.stackexchange.com/2.3/questions/19752543/answers?key=rl_2AK3hrozTLChbcAFfTMnbu2km&order=asc&sort=votes&site=stackoverflow&filter=%21%29rlHR4RcMJ3iyACK5j%29T\n",
      "https://api.stackexchange.com/2.3/questions/21539979/answers?key=rl_2AK3hrozTLChbcAFfTMnbu2km&order=asc&sort=votes&site=stackoverflow&filter=%21%29rlHR4RcMJ3iyACK5j%29T\n",
      "https://api.stackexchange.com/2.3/questions/30400719/answers?key=rl_2AK3hrozTLChbcAFfTMnbu2km&order=asc&sort=votes&site=stackoverflow&filter=%21%29rlHR4RcMJ3iyACK5j%29T\n",
      "https://api.stackexchange.com/2.3/questions/32089576/answers?key=rl_2AK3hrozTLChbcAFfTMnbu2km&order=asc&sort=votes&site=stackoverflow&filter=%21%29rlHR4RcMJ3iyACK5j%29T\n",
      "https://api.stackexchange.com/2.3/questions/35964535/answers?key=rl_2AK3hrozTLChbcAFfTMnbu2km&order=asc&sort=votes&site=stackoverflow&filter=%21%29rlHR4RcMJ3iyACK5j%29T\n",
      "https://api.stackexchange.com/2.3/questions/38229101/answers?key=rl_2AK3hrozTLChbcAFfTMnbu2km&order=asc&sort=votes&site=stackoverflow&filter=%21%29rlHR4RcMJ3iyACK5j%29T\n",
      "https://api.stackexchange.com/2.3/questions/43727023/answers?key=rl_2AK3hrozTLChbcAFfTMnbu2km&order=asc&sort=votes&site=stackoverflow&filter=%21%29rlHR4RcMJ3iyACK5j%29T\n",
      "https://api.stackexchange.com/2.3/questions/48816501/answers?key=rl_2AK3hrozTLChbcAFfTMnbu2km&order=asc&sort=votes&site=stackoverflow&filter=%21%29rlHR4RcMJ3iyACK5j%29T\n"
     ]
    },
    {
     "name": "stdout",
     "output_type": "stream",
     "text": [
      "https://api.stackexchange.com/2.3/questions/51728855/answers?key=rl_2AK3hrozTLChbcAFfTMnbu2km&order=asc&sort=votes&site=stackoverflow&filter=%21%29rlHR4RcMJ3iyACK5j%29T\n",
      "https://api.stackexchange.com/2.3/questions/53128090/answers?key=rl_2AK3hrozTLChbcAFfTMnbu2km&order=asc&sort=votes&site=stackoverflow&filter=%21%29rlHR4RcMJ3iyACK5j%29T\n",
      "https://api.stackexchange.com/2.3/questions/66634446/answers?key=rl_2AK3hrozTLChbcAFfTMnbu2km&order=asc&sort=votes&site=stackoverflow&filter=%21%29rlHR4RcMJ3iyACK5j%29T\n",
      "https://api.stackexchange.com/2.3/questions/67940484/answers?key=rl_2AK3hrozTLChbcAFfTMnbu2km&order=asc&sort=votes&site=stackoverflow&filter=%21%29rlHR4RcMJ3iyACK5j%29T\n",
      "https://api.stackexchange.com/2.3/questions/3071606/answers?key=rl_2AK3hrozTLChbcAFfTMnbu2km&order=asc&sort=votes&site=stackoverflow&filter=%21%29rlHR4RcMJ3iyACK5j%29T\n",
      "https://api.stackexchange.com/2.3/questions/4265606/answers?key=rl_2AK3hrozTLChbcAFfTMnbu2km&order=asc&sort=votes&site=stackoverflow&filter=%21%29rlHR4RcMJ3iyACK5j%29T\n",
      "https://api.stackexchange.com/2.3/questions/6777848/answers?key=rl_2AK3hrozTLChbcAFfTMnbu2km&order=asc&sort=votes&site=stackoverflow&filter=%21%29rlHR4RcMJ3iyACK5j%29T\n",
      "https://api.stackexchange.com/2.3/questions/11635151/answers?key=rl_2AK3hrozTLChbcAFfTMnbu2km&order=asc&sort=votes&site=stackoverflow&filter=%21%29rlHR4RcMJ3iyACK5j%29T\n",
      "https://api.stackexchange.com/2.3/questions/15437201/answers?key=rl_2AK3hrozTLChbcAFfTMnbu2km&order=asc&sort=votes&site=stackoverflow&filter=%21%29rlHR4RcMJ3iyACK5j%29T\n",
      "https://api.stackexchange.com/2.3/questions/15993682/answers?key=rl_2AK3hrozTLChbcAFfTMnbu2km&order=asc&sort=votes&site=stackoverflow&filter=%21%29rlHR4RcMJ3iyACK5j%29T\n",
      "https://api.stackexchange.com/2.3/questions/25704633/answers?key=rl_2AK3hrozTLChbcAFfTMnbu2km&order=asc&sort=votes&site=stackoverflow&filter=%21%29rlHR4RcMJ3iyACK5j%29T\n",
      "https://api.stackexchange.com/2.3/questions/28002576/answers?key=rl_2AK3hrozTLChbcAFfTMnbu2km&order=asc&sort=votes&site=stackoverflow&filter=%21%29rlHR4RcMJ3iyACK5j%29T\n",
      "https://api.stackexchange.com/2.3/questions/31330667/answers?key=rl_2AK3hrozTLChbcAFfTMnbu2km&order=asc&sort=votes&site=stackoverflow&filter=%21%29rlHR4RcMJ3iyACK5j%29T\n",
      "https://api.stackexchange.com/2.3/questions/31348896/answers?key=rl_2AK3hrozTLChbcAFfTMnbu2km&order=asc&sort=votes&site=stackoverflow&filter=%21%29rlHR4RcMJ3iyACK5j%29T\n",
      "https://api.stackexchange.com/2.3/questions/32256221/answers?key=rl_2AK3hrozTLChbcAFfTMnbu2km&order=asc&sort=votes&site=stackoverflow&filter=%21%29rlHR4RcMJ3iyACK5j%29T\n",
      "https://api.stackexchange.com/2.3/questions/32325783/answers?key=rl_2AK3hrozTLChbcAFfTMnbu2km&order=asc&sort=votes&site=stackoverflow&filter=%21%29rlHR4RcMJ3iyACK5j%29T\n",
      "https://api.stackexchange.com/2.3/questions/33926011/answers?key=rl_2AK3hrozTLChbcAFfTMnbu2km&order=asc&sort=votes&site=stackoverflow&filter=%21%29rlHR4RcMJ3iyACK5j%29T\n",
      "https://api.stackexchange.com/2.3/questions/36764452/answers?key=rl_2AK3hrozTLChbcAFfTMnbu2km&order=asc&sort=votes&site=stackoverflow&filter=%21%29rlHR4RcMJ3iyACK5j%29T\n",
      "https://api.stackexchange.com/2.3/questions/37823543/answers?key=rl_2AK3hrozTLChbcAFfTMnbu2km&order=asc&sort=votes&site=stackoverflow&filter=%21%29rlHR4RcMJ3iyACK5j%29T\n",
      "https://api.stackexchange.com/2.3/questions/39632360/answers?key=rl_2AK3hrozTLChbcAFfTMnbu2km&order=asc&sort=votes&site=stackoverflow&filter=%21%29rlHR4RcMJ3iyACK5j%29T\n",
      "https://api.stackexchange.com/2.3/questions/44679871/answers?key=rl_2AK3hrozTLChbcAFfTMnbu2km&order=asc&sort=votes&site=stackoverflow&filter=%21%29rlHR4RcMJ3iyACK5j%29T\n",
      "https://api.stackexchange.com/2.3/questions/44871385/answers?key=rl_2AK3hrozTLChbcAFfTMnbu2km&order=asc&sort=votes&site=stackoverflow&filter=%21%29rlHR4RcMJ3iyACK5j%29T\n",
      "https://api.stackexchange.com/2.3/questions/49709261/answers?key=rl_2AK3hrozTLChbcAFfTMnbu2km&order=asc&sort=votes&site=stackoverflow&filter=%21%29rlHR4RcMJ3iyACK5j%29T\n",
      "https://api.stackexchange.com/2.3/questions/55109190/answers?key=rl_2AK3hrozTLChbcAFfTMnbu2km&order=asc&sort=votes&site=stackoverflow&filter=%21%29rlHR4RcMJ3iyACK5j%29T\n",
      "https://api.stackexchange.com/2.3/questions/69743414/answers?key=rl_2AK3hrozTLChbcAFfTMnbu2km&order=asc&sort=votes&site=stackoverflow&filter=%21%29rlHR4RcMJ3iyACK5j%29T\n",
      "https://api.stackexchange.com/2.3/questions/71165923/answers?key=rl_2AK3hrozTLChbcAFfTMnbu2km&order=asc&sort=votes&site=stackoverflow&filter=%21%29rlHR4RcMJ3iyACK5j%29T\n",
      "https://api.stackexchange.com/2.3/questions/79493558/answers?key=rl_2AK3hrozTLChbcAFfTMnbu2km&order=asc&sort=votes&site=stackoverflow&filter=%21%29rlHR4RcMJ3iyACK5j%29T\n",
      "https://api.stackexchange.com/2.3/questions/471174/answers?key=rl_2AK3hrozTLChbcAFfTMnbu2km&order=asc&sort=votes&site=stackoverflow&filter=%21%29rlHR4RcMJ3iyACK5j%29T\n",
      "https://api.stackexchange.com/2.3/questions/5045196/answers?key=rl_2AK3hrozTLChbcAFfTMnbu2km&order=asc&sort=votes&site=stackoverflow&filter=%21%29rlHR4RcMJ3iyACK5j%29T\n",
      "https://api.stackexchange.com/2.3/questions/6252344/answers?key=rl_2AK3hrozTLChbcAFfTMnbu2km&order=asc&sort=votes&site=stackoverflow&filter=%21%29rlHR4RcMJ3iyACK5j%29T\n",
      "https://api.stackexchange.com/2.3/questions/8772441/answers?key=rl_2AK3hrozTLChbcAFfTMnbu2km&order=asc&sort=votes&site=stackoverflow&filter=%21%29rlHR4RcMJ3iyACK5j%29T\n",
      "https://api.stackexchange.com/2.3/questions/9257740/answers?key=rl_2AK3hrozTLChbcAFfTMnbu2km&order=asc&sort=votes&site=stackoverflow&filter=%21%29rlHR4RcMJ3iyACK5j%29T\n",
      "https://api.stackexchange.com/2.3/questions/10119651/answers?key=rl_2AK3hrozTLChbcAFfTMnbu2km&order=asc&sort=votes&site=stackoverflow&filter=%21%29rlHR4RcMJ3iyACK5j%29T\n",
      "https://api.stackexchange.com/2.3/questions/16022442/answers?key=rl_2AK3hrozTLChbcAFfTMnbu2km&order=asc&sort=votes&site=stackoverflow&filter=%21%29rlHR4RcMJ3iyACK5j%29T\n",
      "https://api.stackexchange.com/2.3/questions/17051025/answers?key=rl_2AK3hrozTLChbcAFfTMnbu2km&order=asc&sort=votes&site=stackoverflow&filter=%21%29rlHR4RcMJ3iyACK5j%29T\n",
      "https://api.stackexchange.com/2.3/questions/26434475/answers?key=rl_2AK3hrozTLChbcAFfTMnbu2km&order=asc&sort=votes&site=stackoverflow&filter=%21%29rlHR4RcMJ3iyACK5j%29T\n",
      "https://api.stackexchange.com/2.3/questions/26800050/answers?key=rl_2AK3hrozTLChbcAFfTMnbu2km&order=asc&sort=votes&site=stackoverflow&filter=%21%29rlHR4RcMJ3iyACK5j%29T\n",
      "https://api.stackexchange.com/2.3/questions/28941797/answers?key=rl_2AK3hrozTLChbcAFfTMnbu2km&order=asc&sort=votes&site=stackoverflow&filter=%21%29rlHR4RcMJ3iyACK5j%29T\n",
      "https://api.stackexchange.com/2.3/questions/35676781/answers?key=rl_2AK3hrozTLChbcAFfTMnbu2km&order=asc&sort=votes&site=stackoverflow&filter=%21%29rlHR4RcMJ3iyACK5j%29T\n",
      "https://api.stackexchange.com/2.3/questions/36147348/answers?key=rl_2AK3hrozTLChbcAFfTMnbu2km&order=asc&sort=votes&site=stackoverflow&filter=%21%29rlHR4RcMJ3iyACK5j%29T\n",
      "https://api.stackexchange.com/2.3/questions/41572364/answers?key=rl_2AK3hrozTLChbcAFfTMnbu2km&order=asc&sort=votes&site=stackoverflow&filter=%21%29rlHR4RcMJ3iyACK5j%29T\n",
      "https://api.stackexchange.com/2.3/questions/42417182/answers?key=rl_2AK3hrozTLChbcAFfTMnbu2km&order=asc&sort=votes&site=stackoverflow&filter=%21%29rlHR4RcMJ3iyACK5j%29T\n",
      "https://api.stackexchange.com/2.3/questions/43901084/answers?key=rl_2AK3hrozTLChbcAFfTMnbu2km&order=asc&sort=votes&site=stackoverflow&filter=%21%29rlHR4RcMJ3iyACK5j%29T\n",
      "https://api.stackexchange.com/2.3/questions/45276446/answers?key=rl_2AK3hrozTLChbcAFfTMnbu2km&order=asc&sort=votes&site=stackoverflow&filter=%21%29rlHR4RcMJ3iyACK5j%29T\n",
      "https://api.stackexchange.com/2.3/questions/50078553/answers?key=rl_2AK3hrozTLChbcAFfTMnbu2km&order=asc&sort=votes&site=stackoverflow&filter=%21%29rlHR4RcMJ3iyACK5j%29T\n",
      "https://api.stackexchange.com/2.3/questions/63463344/answers?key=rl_2AK3hrozTLChbcAFfTMnbu2km&order=asc&sort=votes&site=stackoverflow&filter=%21%29rlHR4RcMJ3iyACK5j%29T\n",
      "https://api.stackexchange.com/2.3/questions/63860449/answers?key=rl_2AK3hrozTLChbcAFfTMnbu2km&order=asc&sort=votes&site=stackoverflow&filter=%21%29rlHR4RcMJ3iyACK5j%29T\n",
      "https://api.stackexchange.com/2.3/questions/64417269/answers?key=rl_2AK3hrozTLChbcAFfTMnbu2km&order=asc&sort=votes&site=stackoverflow&filter=%21%29rlHR4RcMJ3iyACK5j%29T\n",
      "https://api.stackexchange.com/2.3/questions/65260867/answers?key=rl_2AK3hrozTLChbcAFfTMnbu2km&order=asc&sort=votes&site=stackoverflow&filter=%21%29rlHR4RcMJ3iyACK5j%29T\n"
     ]
    }
   ],
   "source": [
    "overlap_tags = ['css', 'html']\n",
    "question = \"overlapping fix\"\n",
    "overlap_qa_threads = fetch_stackoverflow_threads(\n",
    "    tags=overlap_tags,\n",
    "    question=question,\n",
    "    min_answer_count=1\n",
    ")"
   ]
  },
  {
   "cell_type": "code",
   "execution_count": 101,
   "id": "f9eaae6c",
   "metadata": {},
   "outputs": [
    {
     "name": "stdout",
     "output_type": "stream",
     "text": [
      "https://api.stackexchange.com/2.3/search/advanced?q=overflow+fix&order=desc&sort=votes&tagged=css%3Bhtml&site=stackoverflow&pagesize=50&fromdate=1683045598&key=rl_2AK3hrozTLChbcAFfTMnbu2km&filter=withbody\n"
     ]
    }
   ],
   "source": [
    "overflow_tags = ['css', 'html']\n",
    "question = \"overflow fix\"\n",
    "overflow_qa_threads = fetch_stackoverflow_threads(\n",
    "    tags=overflow_tags,\n",
    "    question=question,\n",
    "    max_questions=50,\n",
    "    min_votes=1,\n",
    "    days=730\n",
    ")"
   ]
  },
  {
   "cell_type": "code",
   "execution_count": 102,
   "id": "82c9935a",
   "metadata": {},
   "outputs": [
    {
     "name": "stdout",
     "output_type": "stream",
     "text": [
      "https://api.stackexchange.com/2.3/search/advanced?q=element+next+line&order=desc&sort=votes&tagged=css%3Bhtml&site=stackoverflow&pagesize=50&fromdate=1683045604&key=rl_2AK3hrozTLChbcAFfTMnbu2km&filter=withbody\n"
     ]
    }
   ],
   "source": [
    "wrapping_tags = ['css', 'html']\n",
    "question = \"element next line\"\n",
    "wrapping_qa_threads = fetch_stackoverflow_threads(\n",
    "    tags=wrapping_tags,\n",
    "    question=question,\n",
    "    max_questions=50,\n",
    "    min_votes=1,\n",
    "    days=730\n",
    ")"
   ]
  },
  {
   "cell_type": "code",
   "execution_count": 90,
   "id": "0479bd6f",
   "metadata": {},
   "outputs": [],
   "source": [
    "import json\n",
    "\n",
    "def save_to_json(data, filename):\n",
    "    with open(filename, \"w\", encoding=\"utf-8\") as f:\n",
    "        json.dump(data, f, ensure_ascii=False, indent=4)"
   ]
  },
  {
   "cell_type": "code",
   "execution_count": 89,
   "id": "22abfb91",
   "metadata": {},
   "outputs": [
    {
     "name": "stdout",
     "output_type": "stream",
     "text": [
      "Saved 100 threads to D:\\Codes\\Try-LLM\\stackoverflow_overlap_threads.json\n"
     ]
    }
   ],
   "source": [
    "file_name = \"D:\\Codes\\Try-LLM\\stackoverflow_overlap_threads.json\"\n",
    "save_to_json(overlap_qa_threads, file_name)\n",
    "\n",
    "print(f\"Saved {len(formatted_data)} threads to {file_name}\")"
   ]
  },
  {
   "cell_type": "code",
   "execution_count": 105,
   "id": "e17d5562",
   "metadata": {},
   "outputs": [
    {
     "name": "stdout",
     "output_type": "stream",
     "text": [
      "24\n",
      "Saved 24 threads to D:\\Codes\\Try-LLM\\stackoverflow_overflow_threads.json\n"
     ]
    }
   ],
   "source": [
    "file_name = \"D:\\Codes\\Try-LLM\\stackoverflow_overflow_threads.json\"\n",
    "save_to_json(overflow_qa_threads, file_name)\n",
    "\n",
    "print(f\"Saved {len(formatted_data)} threads to {file_name}\")"
   ]
  },
  {
   "cell_type": "code",
   "execution_count": 106,
   "id": "b01b0e24",
   "metadata": {},
   "outputs": [
    {
     "name": "stdout",
     "output_type": "stream",
     "text": [
      "16\n",
      "Saved 16 threads to D:\\Codes\\Try-LLM\\stackoverflow_wrapping_threads.json\n"
     ]
    }
   ],
   "source": [
    "file_name = \"D:\\Codes\\Try-LLM\\stackoverflow_wrapping_threads.json\"\n",
    "save_to_json(wrapping_qa_threads, file_name)\n",
    "\n",
    "print(f\"Saved {len(formatted_data)} threads to {file_name}\")"
   ]
  },
  {
   "cell_type": "code",
   "execution_count": 8,
   "id": "9b40f713",
   "metadata": {},
   "outputs": [
    {
     "name": "stdout",
     "output_type": "stream",
     "text": [
      "C:\\Users\\ttaos\n"
     ]
    }
   ],
   "source": [
    "cd"
   ]
  },
  {
   "cell_type": "code",
   "execution_count": null,
   "id": "0e6dad2d",
   "metadata": {},
   "outputs": [],
   "source": []
  }
 ],
 "metadata": {
  "kernelspec": {
   "display_name": "Python 3 (ipykernel)",
   "language": "python",
   "name": "python3"
  },
  "language_info": {
   "codemirror_mode": {
    "name": "ipython",
    "version": 3
   },
   "file_extension": ".py",
   "mimetype": "text/x-python",
   "name": "python",
   "nbconvert_exporter": "python",
   "pygments_lexer": "ipython3",
   "version": "3.11.3"
  }
 },
 "nbformat": 4,
 "nbformat_minor": 5
}
