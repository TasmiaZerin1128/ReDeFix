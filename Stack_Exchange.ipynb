{
 "cells": [
  {
   "cell_type": "markdown",
   "id": "df024cee",
   "metadata": {},
   "source": [
    "IMPORT LIBRARIES"
   ]
  },
  {
   "cell_type": "code",
   "execution_count": null,
   "id": "52541095",
   "metadata": {},
   "outputs": [],
   "source": [
    "# pip install requests python-dotenv\n",
    "\n",
    "import os\n",
    "import requests\n",
    "import time\n",
    "from bs4 import BeautifulSoup as bs"
   ]
  },
  {
   "cell_type": "markdown",
   "id": "47375b63",
   "metadata": {},
   "source": [
    "MY STACK EXCHANGE API KEY"
   ]
  },
  {
   "cell_type": "code",
   "execution_count": null,
   "id": "259ce8fd",
   "metadata": {},
   "outputs": [],
   "source": [
    "STACK_EXCHANGE_API_KEY = 'rl_2AK3hrozTLChbcAFfTMnbu2km'"
   ]
  },
  {
   "cell_type": "code",
   "execution_count": null,
   "id": "10d59a5c",
   "metadata": {},
   "outputs": [],
   "source": [
    "element_protrusion_key_properties = ['position', 'float', 'height', 'min-height', 'width', 'min-width', 'display', 'margin', 'padding', 'font-size', 'white-space']\n",
    "element_collision_key_properties = ['position', 'float', 'margin', 'height', 'min-height', 'width', 'min-width', 'display', 'margin', 'padding', 'flex-wrap', 'max-height', 'max-width']\n",
    "viewport_protrusion_key_properties = ['position', 'float', 'height', 'min-height', 'width', 'min-width', 'margin', 'padding', 'font-size' 'white-space']\n",
    "wrapping_key_properties = ['display', 'flex', 'float', 'width', 'min-width', 'margin', 'padding', 'font-size']"
   ]
  },
  {
   "cell_type": "code",
   "execution_count": null,
   "id": "5b715eb9",
   "metadata": {},
   "outputs": [],
   "source": [
    "def keyword_search(properties_set, body):\n",
    "    body_case_lower = body.lower()\n",
    "    for keyword in properties_set:\n",
    "        if keyword in body_case_lower:\n",
    "             return True\n",
    "    \n",
    "    return False"
   ]
  },
  {
   "cell_type": "code",
   "execution_count": null,
   "id": "447398be",
   "metadata": {},
   "outputs": [],
   "source": [
    "from bs4 import NavigableString\n",
    "import html\n",
    "\n",
    "def clean_html_content(html_text):\n",
    "    soup = bs(html_text, \"lxml\")\n",
    "    cleaned = []\n",
    "    \n",
    "    for element in soup.descendants:\n",
    "        if isinstance(element, NavigableString):\n",
    "            if element.parent.name == 'code':\n",
    "                # Preserve code block content\n",
    "                decoded = html.unescape(str(element))\n",
    "                cleaned.append(f'<code>{decoded}</code>')\n",
    "            elif element.parent.name not in ['code', '[document]']:\n",
    "                cleaned.append(' '.join(element.strip().split()))\n",
    "    \n",
    "    return '\\n'.join([line for line in ' '.join(cleaned).split('\\n') if line.strip()])"
   ]
  },
  {
   "cell_type": "code",
   "execution_count": null,
   "id": "13a08eb6",
   "metadata": {},
   "outputs": [],
   "source": [
    "def fetch_stackoverflow_threads(tags, question, key_set, min_answer_count=1):\n",
    "    page = 1\n",
    "    has_more = True\n",
    "    API_KEY = STACK_EXCHANGE_API_KEY\n",
    "    base_url = \"https://api.stackexchange.com/2.3/search/advanced\"\n",
    "    \n",
    "    threads = []\n",
    "    \n",
    "    while has_more:\n",
    "        params = {\n",
    "            \"page\": page,\n",
    "            \"pagesize\": 100,\n",
    "            \"order\": \"desc\",\n",
    "            \"sort\": \"votes\",\n",
    "            \"q\": question,\n",
    "            \"tagged\": \";\".join(tags),\n",
    "            \"site\": \"stackoverflow\",\n",
    "            \"key\": API_KEY,\n",
    "            \"filter\": \"!0WRXThY5-I_TB(WxIdhBDpR5e\"\n",
    "        }\n",
    "        \n",
    "        try:\n",
    "            response = requests.get(base_url, params=params)\n",
    "            print(response.url)\n",
    "            response.raise_for_status()\n",
    "            data = response.json()\n",
    "        \n",
    "            for item in data.get(\"items\", []):\n",
    "                if item[\"answer_count\"] >= min_answer_count:\n",
    "                    thread = {\n",
    "                        \"title\": item[\"title\"],\n",
    "                        \"question_body\": clean_html_content(item[\"body\"]),\n",
    "                        \"link\": item[\"link\"],\n",
    "                        \"score\": item[\"score\"],\n",
    "                        \"tags\": item[\"tags\"],\n",
    "                        \"question_id\": item[\"question_id\"],\n",
    "                        \"answer_count\": item[\"answer_count\"],\n",
    "                        \"view_count\": item[\"view_count\"],\n",
    "                        \"comment_count\": item[\"comment_count\"],\n",
    "                        \"comments\": [],\n",
    "                        \"answers\": []\n",
    "                    }\n",
    "\n",
    "                    if item[\"comment_count\"] > 0:\n",
    "                        for comment in item[\"comments\"]:\n",
    "                            cleaned_text = clean_html_content(comment[\"body\"])\n",
    "                            if keyword_search(key_set, cleaned_text):\n",
    "                                thread[\"comments\"].append({\"body\": cleaned_text})\n",
    "\n",
    "                    if item[\"is_answered\"]:\n",
    "                        answer_url = f'https://api.stackexchange.com/2.3/questions/{item[\"question_id\"]}/answers'\n",
    "                        params = {\n",
    "                            \"key\": API_KEY,\n",
    "                            'order': 'asc',\n",
    "                            'sort': 'votes',    \n",
    "                            'site': 'stackoverflow',   \n",
    "                            'filter': '!)rlHR4RcMJ3iyACK5j)T',  \n",
    "                        }\n",
    "                        response = requests.get(answer_url, params=params)\n",
    "                        print(response.url)\n",
    "                        response.raise_for_status()\n",
    "                        answers = response.json()\n",
    "\n",
    "                        cleaned_answers = ''\n",
    "                        for answer in answers['items']:\n",
    "                            if answer['score'] > 0:\n",
    "                                cleaned_answer = clean_html_content(answer[\"body\"])\n",
    "                                if keyword_search(key_set, cleaned_answer):\n",
    "                                    thread[\"answers\"].append({\n",
    "                                        \"score\": answer[\"score\"],\n",
    "                                        \"body\": cleaned_answer\n",
    "                                    })\n",
    "                                \n",
    "                if len(thread[\"answers\"]) == 0 and len(thread[\"comments\"]) == 0:\n",
    "                    continue\n",
    "                            \n",
    "                threads.append(thread)\n",
    "\n",
    "            has_more = False\n",
    "            page += 1\n",
    "\n",
    "            # Respect rate limits\n",
    "            if 'backoff' in response:\n",
    "                time.sleep(response['backoff'] + 1)\n",
    "    \n",
    "        except requests.exceptions.RequestException as e:\n",
    "            print(f\"API request failed: {e}\")\n",
    "            return []\n",
    "        \n",
    "    return threads"
   ]
  },
  {
   "cell_type": "code",
   "execution_count": null,
   "id": "be73edd3",
   "metadata": {},
   "outputs": [],
   "source": [
    "collision_tags = ['css', 'html']\n",
    "question = \"element overlap fix\"\n",
    "collision_qa_threads = fetch_stackoverflow_threads(\n",
    "    tags=collision_tags,\n",
    "    question=question,\n",
    "    key_set=element_collision_key_properties,\n",
    "    min_answer_count=1\n",
    ")"
   ]
  },
  {
   "cell_type": "code",
   "execution_count": null,
   "id": "871455a8",
   "metadata": {},
   "outputs": [],
   "source": [
    "collision_tags = ['css', 'html']\n",
    "question = \"div overlap fix\"\n",
    "collision_qa_threads_v2 = fetch_stackoverflow_threads(\n",
    "    tags=collision_tags,\n",
    "    question=question,\n",
    "    key_set=element_collision_key_properties,\n",
    "    min_answer_count=1\n",
    ")\n",
    "collision_qa_threads.append(collision_qa_threads_v2)"
   ]
  },
  {
   "cell_type": "code",
   "execution_count": null,
   "id": "ad110cbf",
   "metadata": {},
   "outputs": [],
   "source": [
    "collision_tags = ['css', 'html']\n",
    "question = \"element collision fix\"\n",
    "collision_qa_threads_v2 = fetch_stackoverflow_threads(\n",
    "    tags=collision_tags,\n",
    "    question=question,\n",
    "    key_set=element_collision_key_properties,\n",
    "    min_answer_count=1\n",
    ")\n",
    "collision_qa_threads.append(collision_qa_threads_v2)"
   ]
  },
  {
   "cell_type": "code",
   "execution_count": null,
   "id": "f9eaae6c",
   "metadata": {},
   "outputs": [],
   "source": [
    "protrusion_tags = ['css', 'html']\n",
    "question = \"overflow fix\"\n",
    "protrusion_qa_threads = fetch_stackoverflow_threads(\n",
    "    tags=protrusion_tags,\n",
    "    question=question,\n",
    "    key_set=element_protrusion_key_properties,\n",
    "    min_answer_count=1\n",
    ")"
   ]
  },
  {
   "cell_type": "code",
   "execution_count": null,
   "id": "9225f999",
   "metadata": {},
   "outputs": [],
   "source": [
    "protrusion_tags = ['css', 'html']\n",
    "question = \"element protrude fix\"\n",
    "protrusion_qa_threads_v2 = fetch_stackoverflow_threads(\n",
    "    tags=protrusion_tags,\n",
    "    question=question,\n",
    "    key_set=element_protrusion_key_properties,\n",
    "    min_answer_count=1\n",
    ")\n",
    "protrusion_qa_threads.append(protrusion_qa_threads_v2)"
   ]
  },
  {
   "cell_type": "code",
   "execution_count": null,
   "id": "c06998bc",
   "metadata": {},
   "outputs": [],
   "source": [
    "protrusion_tags = ['css', 'html']\n",
    "question = \"getting outside screen fix\"\n",
    "protrusion_qa_threads_v2 = fetch_stackoverflow_threads(\n",
    "    tags=protrusion_tags,\n",
    "    question=question,\n",
    "    key_set=element_protrusion_key_properties,\n",
    "    min_answer_count=1\n",
    ")\n",
    "protrusion_qa_threads.append(protrusion_qa_threads_v2)"
   ]
  },
  {
   "cell_type": "code",
   "execution_count": null,
   "id": "82c9935a",
   "metadata": {},
   "outputs": [],
   "source": [
    "wrapping_tags = ['css', 'html']\n",
    "question = \"element next line\"\n",
    "wrapping_qa_threads = fetch_stackoverflow_threads(\n",
    "    tags=wrapping_tags,\n",
    "    question=question,\n",
    "    key_set=wrapping_key_properties,\n",
    "    min_answer_count=1\n",
    ")"
   ]
  },
  {
   "cell_type": "code",
   "execution_count": null,
   "id": "0479bd6f",
   "metadata": {},
   "outputs": [],
   "source": [
    "import json\n",
    "\n",
    "def save_to_json(data, filename):\n",
    "    with open(filename, \"w\", encoding=\"utf-8\") as f:\n",
    "        json.dump(data, f, ensure_ascii=False, indent=4)\n",
    "        \n",
    "def save_to_file(threads, file_name):\n",
    "    save_to_json(threads, file_name)\n",
    "    print(f\"Saved {len(threads)} threads to {file_name}\")"
   ]
  },
  {
   "cell_type": "code",
   "execution_count": null,
   "id": "22abfb91",
   "metadata": {},
   "outputs": [],
   "source": [
    "save_to_file(collision_qa_threads, \"stackoverflow_collision_threads.json\")"
   ]
  },
  {
   "cell_type": "code",
   "execution_count": null,
   "id": "e17d5562",
   "metadata": {},
   "outputs": [],
   "source": [
    "save_to_file(protrusion_qa_threads, \"stackoverflow_protrusion_threads.json\")"
   ]
  },
  {
   "cell_type": "code",
   "execution_count": null,
   "id": "b01b0e24",
   "metadata": {},
   "outputs": [],
   "source": [
    "save_to_file(wrapping_qa_threads, \"stackoverflow_wrapping_threads.json\")"
   ]
  },
  {
   "cell_type": "code",
   "execution_count": null,
   "id": "2e45e570",
   "metadata": {},
   "outputs": [],
   "source": [
    "import json\n",
    "\n",
    "def count_ans_comments(file_path):\n",
    "    grand_sum_answers = 0\n",
    "    grand_sum_comments = 0\n",
    "    with open(file_path, encoding='utf-8') as file:\n",
    "        data = json.load(file)\n",
    "        print(len(data))\n",
    "        for i in range(len(data)):\n",
    "            if 'answers' in data[i]:\n",
    "                answer = len(data[i]['answers'])\n",
    "                grand_sum_answers += answer\n",
    "\n",
    "                grand_sum_comments += comments\n",
    "\n",
    "\n",
    "    print(\"total answers: \", grand_sum_answers)\n",
    "    print(\"total comments: \", grand_sum_comments)"
   ]
  },
  {
   "cell_type": "code",
   "execution_count": null,
   "id": "7c2404d7",
   "metadata": {},
   "outputs": [],
   "source": [
    "file_path = \"stackoverflow_collision_threads.json\"\n",
    "count_ans_comments(file_path)"
   ]
  },
  {
   "cell_type": "code",
   "execution_count": null,
   "id": "ae5be660",
   "metadata": {},
   "outputs": [],
   "source": [
    "file_path = \"stackoverflow_protrusion_threads.json\"\n",
    "count_ans_comments(file_path)"
   ]
  },
  {
   "cell_type": "code",
   "execution_count": null,
   "id": "7f00992f",
   "metadata": {},
   "outputs": [],
   "source": [
    "file_path = \"stackoverflow_wrapping_threads.json\"\n",
    "count_ans_comments(file_path)"
   ]
  },
  {
   "cell_type": "code",
   "execution_count": null,
   "id": "d7c83272",
   "metadata": {},
   "outputs": [],
   "source": [
    "import nltk\n",
    "nltk.download()\n",
    "pip install rake-nltk"
   ]
  },
  {
   "cell_type": "code",
   "execution_count": null,
   "id": "7ba36edf",
   "metadata": {},
   "outputs": [],
   "source": [
    "from rake_nltk import Rake\n",
    "\n",
    "r = Rake()\n",
    "ec = \"Elements collide into one another due to insufficient accommodation space when viewport width reduces\"\n",
    "ep = \"When the child element is contained within its container, but as the viewport width decreases, it lacks sufficient space to fit within its parent. As a result, the child element protrudes out of its container.\"\n",
    "vp = \"As the viewport size decreases, elements may not only overflow their containers but also protrude out of the viewable area of the webpage (i.e., the <BODY> tag), causing them to appear outside the horizontally visible portion of the page.\"\n",
    "we = \"When the container is not wide enough but has a flexible height, horizontally aligned elements contained within it no longer fit side by side, causing “wrap” to a new line on the page.\""
   ]
  },
  {
   "cell_type": "code",
   "execution_count": null,
   "id": "b5a39583",
   "metadata": {},
   "outputs": [],
   "source": [
    "r.extract_keywords_from_text(ec)\n",
    "r.get_ranked_phrases_with_scores()"
   ]
  },
  {
   "cell_type": "code",
   "execution_count": null,
   "id": "1908ecaa",
   "metadata": {},
   "outputs": [],
   "source": [
    "r.extract_keywords_from_text(ep)\n",
    "r.get_ranked_phrases_with_scores()"
   ]
  },
  {
   "cell_type": "code",
   "execution_count": null,
   "id": "05e76e61",
   "metadata": {},
   "outputs": [],
   "source": [
    "r.extract_keywords_from_text(vp)\n",
    "r.get_ranked_phrases_with_scores()"
   ]
  },
  {
   "cell_type": "code",
   "execution_count": null,
   "id": "49c47452",
   "metadata": {},
   "outputs": [],
   "source": [
    "r.extract_keywords_from_text(we)\n",
    "r.get_ranked_phrases_with_scores()"
   ]
  }
 ],
 "metadata": {
  "kernelspec": {
   "display_name": "Python 3 (ipykernel)",
   "language": "python",
   "name": "python3"
  },
  "language_info": {
   "codemirror_mode": {
    "name": "ipython",
    "version": 3
   },
   "file_extension": ".py",
   "mimetype": "text/x-python",
   "name": "python",
   "nbconvert_exporter": "python",
   "pygments_lexer": "ipython3",
   "version": "3.11.3"
  }
 },
 "nbformat": 4,
 "nbformat_minor": 5
}
